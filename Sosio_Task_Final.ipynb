{
 "cells": [
  {
   "cell_type": "markdown",
   "metadata": {},
   "source": [
    "**Problem 1**\n"
   ]
  },
  {
   "cell_type": "markdown",
   "metadata": {},
   "source": [
    "\n",
    "A number N will be given as input, followed by N email addresses. Few of the email address might be wrong, the output should contain valid email addresses. \n",
    "\n",
    "Sample Input \n",
    "\n",
    "3\n",
    "\n",
    "hello@example\n",
    "\n",
    "\n",
    "username@domain.com\n",
    "\n",
    "her323@#89asdf.fds\n",
    "\n",
    "Sample Output\n",
    "\n",
    "username@domain.com "
   ]
  },
  {
   "cell_type": "code",
   "execution_count": 6,
   "metadata": {},
   "outputs": [
    {
     "name": "stdout",
     "output_type": "stream",
     "text": [
      "3\n",
      "Enter  3  Email address\n",
      "Sample Input\n",
      "hello@example\n",
      "username@domain.com\n",
      "her323@#89asdf.fds\n",
      "Sample Output\n",
      "username@domain.com\n"
     ]
    }
   ],
   "source": [
    "\n",
    "# input \n",
    "#Function to check Local part of Email address\n",
    "def IsLocalvalid(local):\n",
    "    valid=0\n",
    "#Checking the lenght between 1 to 64\n",
    "    if len(local)>0 and len(local)<65:\n",
    "#First and last character should not be dot (.)  \n",
    "        if (local[0] != \".\") and (local[-1] != \".\"):\n",
    "            valid=1\n",
    "            for i in range(len(local)):\n",
    "#Checking its alphanumeric or not\n",
    "                if local[i].isalnum()==False:\n",
    "#If not alphanumeric checking in the list of  other acceptable (printable) characters\n",
    "                    if local[i] not in  [\".\",\"!\",\"#\",\"$\",\"%\",\"&\",\"'\",\"*\",\"+\",\"-\",\"/\",\"=\",\"?\",\"^\",\"_\",\"`\",\"{\",\"|\",\"}\",\"~\"]:\n",
    "                        valid=0\n",
    "                        break\n",
    "    return valid\n",
    "#Function to check Left and Right  parts of Domain Email address\n",
    "def IsDomainPartvalid(domain_part):\n",
    "    valid=0\n",
    "#Checking the lenght between 1 to 63\n",
    "    if len(domain_part)>0 and len(domain_part)<64:\n",
    "#First and last character should not be hyphen (-)  \n",
    "        if (domain_part[0] != \"-\") and (domain_part[-1] != \"-\"):\n",
    "            valid=1\n",
    "            for i in range(len(domain_part)):\n",
    "#Checking its alphanumeric or not\n",
    "                if domain_part[i].isalnum()==False:\n",
    "#If not alphanumeric checking in the list of  other acceptable (printable) characters; here its hyphen(-)\n",
    "                    if domain_part[i] not in  [\"-\"]:\n",
    "                        valid=0\n",
    "                        break\n",
    "    return valid\n",
    "#Function to check domain part of Email address\n",
    "def IsDomainvalid(domain):\n",
    "    valid=0\n",
    "    if len(domain)>0 and len(domain)<256:\n",
    "        if (domain.find('.') != -1):  \n",
    "#Seperating the domain left and right side of period(.)\n",
    "            domain_left=domain[0:domain.find('.')]\n",
    "            domain_right=domain[domain.find('.')+1:]\n",
    "            if (IsDomainPartvalid(domain_left) == 1) and (IsDomainPartvalid(domain_right) == 1):\n",
    "                    valid=1 \n",
    "    return valid\n",
    "def Isvalid(emailID):\n",
    "    valid=0\n",
    "    if (emailID.find('@') != -1): \n",
    "        startpos=emailID.find('@') \n",
    "#Seperating the domain left and right side of at the rate(@)\n",
    "        localpart=emailID[0:startpos]\n",
    "        domainpart=emailID[startpos+1:]\n",
    "        if (emailID.find('@',startpos+1) == -1): \n",
    "            if IsLocalvalid(localpart) == 1:\n",
    "                if IsDomainvalid(domainpart) == 1:\n",
    "                    valid=1    \n",
    "    return valid\n",
    "\n",
    "N = int(input()) \n",
    "if N > 0 :\n",
    "    print(\"Enter \",N,\" Email address\") \n",
    "    print(\"Sample Input\")\n",
    "    my_list = [] \n",
    "    for i in range(N):\n",
    "        email = str(input()) \n",
    "        my_list.append(email) \n",
    "    print(\"Sample Output\")\n",
    "    for j in range(len(my_list)):\n",
    "        if Isvalid(my_list[j])==1:\n",
    "            print(my_list[j])\n",
    "else:\n",
    "    print(\"Try again with a non zero positive number\")"
   ]
  },
  {
   "cell_type": "markdown",
   "metadata": {},
   "source": [
    "**Problem 2**\n"
   ]
  },
  {
   "cell_type": "markdown",
   "metadata": {},
   "source": [
    "\n",
    "You are given a positive integer .Your task is to print a palindromic triangle of size. For example, a palindromic triangle of size  is:\n",
    "\n",
    "1\n",
    "\n",
    "121\n",
    "\n",
    "12321\n",
    "\n",
    "1234321\n",
    "\n",
    "123454321\n",
    "\n",
    "\n",
    "\n",
    "Sample Input \n",
    "\n",
    "3\n",
    "\n",
    "Sample Output \n",
    "\n",
    "1\n",
    "\n",
    "121\n",
    "\n",
    "12321\n",
    "\n"
   ]
  },
  {
   "cell_type": "code",
   "execution_count": 1,
   "metadata": {},
   "outputs": [
    {
     "name": "stdout",
     "output_type": "stream",
     "text": [
      "Enter a Number\n",
      "Sample Input\n",
      "3\n",
      "Sample Output\n",
      "\n",
      "1\n",
      "121\n",
      "12321\n"
     ]
    }
   ],
   "source": [
    "print(\"Enter a Number\")\n",
    "print(\"Sample Input\")\n",
    "N = int(input()) \n",
    "if N > 0 :\n",
    "    print(\"Sample Output\")\n",
    "    for k in range(N+1):\n",
    "        for i in range(1,k+1,1):\n",
    "            print(i,end =\"\")\n",
    "        for j in range(k,1,-1):\n",
    "            print(j-1,end =\"\")\n",
    "        print(\"\")\n",
    "else:\n",
    "    print(\"Try again with a non zero positive number\")\n",
    "\n"
   ]
  },
  {
   "cell_type": "markdown",
   "metadata": {},
   "source": [
    "**Problem 3**\n"
   ]
  },
  {
   "cell_type": "markdown",
   "metadata": {},
   "source": [
    "\n",
    "\n",
    "The sum of the squares of the first ten natural numbers is,\n",
    "\n",
    "12 + 22 + ... + 102 = 385\n",
    "\n",
    "The square of the sum of the first ten natural numbers is,\n",
    "\n",
    "(1 + 2 + ... + 10)2 = 552 = 3025\n",
    "\n",
    "Hence the difference between the sum of the squares of the first ten natural numbers and the square of the sum is 3025 − 385 = 2640.\n",
    "\n",
    "For a given number N, find the difference between the sum of the squares of the first N natural numbers and the square of the sum.\n",
    "\n",
    "\n",
    "Sample Input \n",
    "\n",
    "3\n",
    "\n",
    "Sample Output \n",
    "\n",
    "22\n",
    "\n"
   ]
  },
  {
   "cell_type": "code",
   "execution_count": 5,
   "metadata": {},
   "outputs": [
    {
     "name": "stdout",
     "output_type": "stream",
     "text": [
      "Enter a Number\n",
      "Sample Input\n",
      "3\n",
      "Sample Output\n",
      "22\n"
     ]
    }
   ],
   "source": [
    "print(\"Enter a Number\")\n",
    "print(\"Sample Input\")\n",
    "string=input()\n",
    "if string.isnumeric()==True:\n",
    "    N = int(string) \n",
    "    if (string.isnumeric()==True) and N > 0 :\n",
    "        print(\"Sample Output\")\n",
    "        sumofnumber=0\n",
    "        sumofsquare=0\n",
    "        for i in range(1,N+1):\n",
    "            sumofnumber=sumofnumber+i\n",
    "            sumofsquare=sumofsquare+ (i*i) \n",
    "#    print(\"sumofnumber\",sumofnumber)    \n",
    " #   print(\"sumofsquare\",sumofsquare)\n",
    "        print((sumofnumber*sumofnumber)-sumofsquare)\n",
    "    else:\n",
    "        print(\"Try again with a non zero positive number\")\n",
    "else:\n",
    "    print(\"Try again with a numeric character\")\n"
   ]
  }
 ],
 "metadata": {
  "kernelspec": {
   "display_name": "Python 3",
   "language": "python",
   "name": "python3"
  },
  "language_info": {
   "codemirror_mode": {
    "name": "ipython",
    "version": 3
   },
   "file_extension": ".py",
   "mimetype": "text/x-python",
   "name": "python",
   "nbconvert_exporter": "python",
   "pygments_lexer": "ipython3",
   "version": "3.7.4"
  }
 },
 "nbformat": 4,
 "nbformat_minor": 2
}
